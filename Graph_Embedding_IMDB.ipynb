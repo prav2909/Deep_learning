{
  "nbformat": 4,
  "nbformat_minor": 0,
  "metadata": {
    "colab": {
      "name": "Graph_Embedding_IMDB.ipynb",
      "provenance": [],
      "toc_visible": true,
      "authorship_tag": "ABX9TyNNhBNJKQ6RrI2WyN+HBjDv",
      "include_colab_link": true
    },
    "kernelspec": {
      "name": "python3",
      "display_name": "Python 3"
    }
  },
  "cells": [
    {
      "cell_type": "markdown",
      "metadata": {
        "id": "view-in-github",
        "colab_type": "text"
      },
      "source": [
        "<a href=\"https://colab.research.google.com/github/prav2909/Deep_learning/blob/master/Graph_Embedding_IMDB.ipynb\" target=\"_parent\"><img src=\"https://colab.research.google.com/assets/colab-badge.svg\" alt=\"Open In Colab\"/></a>"
      ]
    },
    {
      "cell_type": "markdown",
      "metadata": {
        "id": "k1PXTOIrNuoQ",
        "colab_type": "text"
      },
      "source": [
        "***Work in progress***\n",
        "\n",
        "Graph embedding using IMDB Database\n",
        "\n",
        "References:\n",
        "https://www.analyticsvidhya.com/blog/2019/11/graph-feature-extraction-deepwalk/\n",
        "\n",
        "Database link: \n",
        "\n",
        "title.basics.tsv.gz\n",
        "https://www.imdb.com/interfaces/"
      ]
    },
    {
      "cell_type": "code",
      "metadata": {
        "id": "VeR3SMxAMHpN",
        "colab_type": "code",
        "colab": {}
      },
      "source": [
        "import networkx as nx\n",
        "import pandas as pd\n",
        "import numpy as np\n",
        "import random\n",
        "from tqdm import tqdm\n",
        "from sklearn.decomposition import PCA\n",
        "\n",
        "import matplotlib.pyplot as plt\n",
        "%matplotlib inline"
      ],
      "execution_count": 42,
      "outputs": []
    },
    {
      "cell_type": "code",
      "metadata": {
        "id": "BEgHmaxuhICX",
        "colab_type": "code",
        "colab": {
          "base_uri": "https://localhost:8080/",
          "height": 235
        },
        "outputId": "1484d758-ab4a-4b9f-e189-29ecdd9b02dc"
      },
      "source": [
        "mdb = pd.read_csv(\"data.tsv\", sep = \"\\t\", nrows=50) #usecols=['genres', 'primaryTitle']\n",
        "for index, row in mdb.iterrows():\n",
        "  a = row['genres'].split(\",\")\n",
        "  mdb['genres'][index] = a[0]\n",
        "\n",
        "mdb = mdb.sort_values(by='genres', axis=0)\n",
        "print(mdb.head(10))"
      ],
      "execution_count": 116,
      "outputs": [
        {
          "output_type": "stream",
          "text": [
            "       tconst titleType  ... runtimeMinutes     genres\n",
            "11  tt0000012     short  ...              1     Action\n",
            "39  tt0000041     short  ...              1     Action\n",
            "1   tt0000002     short  ...              5  Animation\n",
            "2   tt0000003     short  ...              4  Animation\n",
            "3   tt0000004     short  ...             12  Animation\n",
            "14  tt0000015     short  ...              2  Animation\n",
            "4   tt0000005     short  ...              1     Comedy\n",
            "18  tt0000019     short  ...             \\N     Comedy\n",
            "31  tt0000033     short  ...              1     Comedy\n",
            "33  tt0000035     short  ...              1     Comedy\n",
            "\n",
            "[10 rows x 9 columns]\n"
          ],
          "name": "stdout"
        }
      ]
    },
    {
      "cell_type": "code",
      "metadata": {
        "id": "jmZ1zFdCij-j",
        "colab_type": "code",
        "colab": {
          "base_uri": "https://localhost:8080/",
          "height": 87
        },
        "outputId": "2b57e91b-c921-4f4a-d64a-50addd28fe4b"
      },
      "source": [
        "#NOT USED\n",
        "import gensim.downloader as api\n",
        "wv = api.load('word2vec-google-news-300')"
      ],
      "execution_count": 5,
      "outputs": [
        {
          "output_type": "stream",
          "text": [
            "[=================================================-] 98.9% 1645.2/1662.8MB downloaded\n"
          ],
          "name": "stdout"
        },
        {
          "output_type": "stream",
          "text": [
            "/usr/local/lib/python3.6/dist-packages/smart_open/smart_open_lib.py:254: UserWarning: This function is deprecated, use smart_open.open instead. See the migration notes for details: https://github.com/RaRe-Technologies/smart_open/blob/master/README.rst#migrating-to-the-new-open-function\n",
            "  'See the migration notes for details: %s' % _MIGRATION_NOTES_URL\n"
          ],
          "name": "stderr"
        }
      ]
    },
    {
      "cell_type": "code",
      "metadata": {
        "id": "h3a-oJTUMlTs",
        "colab_type": "code",
        "colab": {}
      },
      "source": [
        "G = nx.from_pandas_edgelist(mdb, \"genres\", \"primaryTitle\", edge_attr=None, create_using=nx.Graph())"
      ],
      "execution_count": 126,
      "outputs": []
    },
    {
      "cell_type": "code",
      "metadata": {
        "id": "XFRUSbu5MoBz",
        "colab_type": "code",
        "colab": {
          "base_uri": "https://localhost:8080/",
          "height": 336
        },
        "outputId": "b9ad758d-77fc-4c6e-f3e7-44f943ba2b35"
      },
      "source": [
        "print(len(G))\n",
        "nx.draw(G)"
      ],
      "execution_count": 127,
      "outputs": [
        {
          "output_type": "stream",
          "text": [
            "57\n"
          ],
          "name": "stdout"
        },
        {
          "output_type": "display_data",
          "data": {
            "image/png": "[encoded data removed]",
            "text/plain": [
              "<Figure size 432x288 with 1 Axes>"
            ]
          },
          "metadata": {
            "tags": []
          }
        }
      ]
    },
    {
      "cell_type": "code",
      "metadata": {
        "id": "6T87OxwCMuA6",
        "colab_type": "code",
        "colab": {}
      },
      "source": [
        "def get_randomwalk(node, path_length):\n",
        "    \n",
        "    random_walk = [node]\n",
        "    \n",
        "    for i in range(path_length-1):\n",
        "        temp = list(G.neighbors(node))\n",
        "        temp = list(set(temp) - set(random_walk))    \n",
        "        if len(temp) == 0:\n",
        "            break\n",
        "\n",
        "        random_node = random.choice(temp)\n",
        "        random_walk.append(random_node)\n",
        "        node = random_node\n",
        "        \n",
        "    return random_walk"
      ],
      "execution_count": 128,
      "outputs": []
    },
    {
      "cell_type": "code",
      "metadata": {
        "id": "ROYoubEpMwuN",
        "colab_type": "code",
        "colab": {
          "base_uri": "https://localhost:8080/",
          "height": 34
        },
        "outputId": "0593d6db-6b78-4c3f-bd13-a88f9d78cfae"
      },
      "source": [
        "get_randomwalk('Comedy', 20)"
      ],
      "execution_count": 129,
      "outputs": [
        {
          "output_type": "execute_result",
          "data": {
            "text/plain": [
              "['Comedy', 'Trick Riding']"
            ]
          },
          "metadata": {
            "tags": []
          },
          "execution_count": 129
        }
      ]
    },
    {
      "cell_type": "code",
      "metadata": {
        "id": "AzCd3ALyNDlD",
        "colab_type": "code",
        "colab": {
          "base_uri": "https://localhost:8080/",
          "height": 50
        },
        "outputId": "3baf2020-5b72-4883-9be2-5027c31c121e"
      },
      "source": [
        "# get list of all nodes from the graph\n",
        "all_nodes = list(G.nodes())\n",
        "\n",
        "random_walks = []\n",
        "for n in tqdm(all_nodes):\n",
        "    for i in range(5):\n",
        "        random_walks.append(get_randomwalk(n,10))\n",
        "        \n",
        "# count of sequences\n",
        "len(random_walks)"
      ],
      "execution_count": 130,
      "outputs": [
        {
          "output_type": "stream",
          "text": [
            "100%|██████████| 57/57 [00:00<00:00, 6846.96it/s]\n"
          ],
          "name": "stderr"
        },
        {
          "output_type": "execute_result",
          "data": {
            "text/plain": [
              "285"
            ]
          },
          "metadata": {
            "tags": []
          },
          "execution_count": 130
        }
      ]
    },
    {
      "cell_type": "code",
      "metadata": {
        "id": "21vCAbrxNGYz",
        "colab_type": "code",
        "colab": {}
      },
      "source": [
        "from gensim.models import Word2Vec\n",
        "\n",
        "import warnings\n",
        "warnings.filterwarnings('ignore')"
      ],
      "execution_count": 131,
      "outputs": []
    },
    {
      "cell_type": "code",
      "metadata": {
        "id": "Eet2cbwINI76",
        "colab_type": "code",
        "colab": {
          "base_uri": "https://localhost:8080/",
          "height": 34
        },
        "outputId": "7183b929-671a-475f-b73d-89b345686427"
      },
      "source": [
        "# train skip-gram (word2vec) model\n",
        "model = Word2Vec(window = 2, sg = 1, hs = 0,\n",
        "                 negative = 10, # for negative sampling\n",
        "                 alpha=0.03, min_alpha=0.0007,\n",
        "                 seed = 14)\n",
        "\n",
        "model.build_vocab(random_walks, progress_per=2)\n",
        "\n",
        "model.train(random_walks, total_examples = model.corpus_count, epochs=20, report_delay=1)"
      ],
      "execution_count": 132,
      "outputs": [
        {
          "output_type": "execute_result",
          "data": {
            "text/plain": [
              "(4684, 16460)"
            ]
          },
          "metadata": {
            "tags": []
          },
          "execution_count": 132
        }
      ]
    },
    {
      "cell_type": "code",
      "metadata": {
        "id": "n-YCg6IkNLOQ",
        "colab_type": "code",
        "colab": {
          "base_uri": "https://localhost:8080/",
          "height": 185
        },
        "outputId": "95d73e45-ac81-433a-9bb3-684865147451"
      },
      "source": [
        "model.similar_by_word('Documentary')"
      ],
      "execution_count": 134,
      "outputs": [
        {
          "output_type": "execute_result",
          "data": {
            "text/plain": [
              "[('Short', 0.984034538269043),\n",
              " ('Comedy', 0.9759213924407959),\n",
              " ('Animation', 0.9637303352355957),\n",
              " ('Barnet Horse Fair', 0.9517174959182739),\n",
              " ('Les blanchisseuses', 0.9466201066970825),\n",
              " ('Das boxende Känguruh', 0.9441068172454834),\n",
              " ('The Ball Game', 0.943045973777771),\n",
              " ('Bateau-mouche sur la Seine', 0.938555121421814),\n",
              " ('The Waterer Watered', 0.9357988834381104),\n",
              " ('Le clown et ses chiens', 0.9323971271514893)]"
            ]
          },
          "metadata": {
            "tags": []
          },
          "execution_count": 134
        }
      ]
    }
  ]
}